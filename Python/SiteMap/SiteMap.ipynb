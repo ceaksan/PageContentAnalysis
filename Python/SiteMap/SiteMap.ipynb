{
 "metadata": {
  "language_info": {
   "codemirror_mode": {
    "name": "ipython",
    "version": 3
   },
   "file_extension": ".py",
   "mimetype": "text/x-python",
   "name": "python",
   "nbconvert_exporter": "python",
   "pygments_lexer": "ipython3",
   "version": "3.9.4"
  },
  "orig_nbformat": 4,
  "kernelspec": {
   "name": "python3",
   "display_name": "Python 3.9.4 64-bit ('python@3.9')"
  },
  "interpreter": {
   "hash": "ac2eaa0ea0ebeafcc7822e65e46aa9d4f966f30b695406963e145ea4a91cd4fc"
  }
 },
 "nbformat": 4,
 "nbformat_minor": 2,
 "cells": [
  {
   "cell_type": "code",
   "execution_count": 1,
   "metadata": {},
   "outputs": [],
   "source": [
    "#!/usr/bin/env python3\n",
    "\n",
    "#!pip insall sitemap_tree_for_homepage\n",
    "#!pip insall pandas\n",
    "\n",
    "import csv, requests\n",
    "from usp.tree import sitemap_tree_for_homepage\n",
    "import pandas as pd\n",
    "from concurrent.futures import ThreadPoolExecutor"
   ]
  },
  {
   "cell_type": "code",
   "execution_count": 2,
   "metadata": {},
   "outputs": [
    {
     "output_type": "stream",
     "name": "stderr",
     "text": [
      "2021-07-19 23:10:08,391 WARNING usp.tree [43159/MainThread]: Assuming that the homepage of https://ceaksan.com is https://ceaksan.com/\n",
      "2021-07-19 23:10:08,394 INFO usp.fetch_parse [43159/MainThread]: Fetching level 0 sitemap from https://ceaksan.com/robots.txt...\n",
      "2021-07-19 23:10:08,396 INFO usp.helpers [43159/MainThread]: Fetching URL https://ceaksan.com/robots.txt...\n",
      "2021-07-19 23:10:09,378 INFO usp.fetch_parse [43159/MainThread]: Parsing sitemap from URL https://ceaksan.com/robots.txt...\n",
      "2021-07-19 23:10:09,379 INFO usp.fetch_parse [43159/MainThread]: Fetching level 0 sitemap from http://ceaksan.com/tr/sitemap.xml...\n",
      "2021-07-19 23:10:09,380 INFO usp.helpers [43159/MainThread]: Fetching URL http://ceaksan.com/tr/sitemap.xml...\n",
      "2021-07-19 23:10:15,667 INFO usp.fetch_parse [43159/MainThread]: Parsing sitemap from URL http://ceaksan.com/tr/sitemap.xml...\n",
      "2021-07-19 23:10:15,810 INFO usp.fetch_parse [43159/MainThread]: Fetching level 0 sitemap from http://ceaksan.com/en/sitemap.xml...\n",
      "2021-07-19 23:10:15,811 INFO usp.helpers [43159/MainThread]: Fetching URL http://ceaksan.com/en/sitemap.xml...\n",
      "2021-07-19 23:10:17,767 INFO usp.fetch_parse [43159/MainThread]: Parsing sitemap from URL http://ceaksan.com/en/sitemap.xml...\n",
      "2021-07-19 23:10:17,863 INFO usp.fetch_parse [43159/MainThread]: Fetching level 0 sitemap from https://ceaksan.com/sitemap-index.xml...\n",
      "2021-07-19 23:10:17,864 INFO usp.helpers [43159/MainThread]: Fetching URL https://ceaksan.com/sitemap-index.xml...\n",
      "2021-07-19 23:10:19,207 WARNING usp.helpers [43159/MainThread]: Request for URL https://ceaksan.com/sitemap-index.xml failed: 404 Not Found\n",
      "2021-07-19 23:10:19,207 INFO usp.helpers [43159/MainThread]: Not retrying for URL https://ceaksan.com/sitemap-index.xml\n",
      "2021-07-19 23:10:19,208 INFO usp.fetch_parse [43159/MainThread]: Fetching level 0 sitemap from https://ceaksan.com/sitemap...\n",
      "2021-07-19 23:10:19,209 INFO usp.helpers [43159/MainThread]: Fetching URL https://ceaksan.com/sitemap...\n",
      "2021-07-19 23:10:22,069 INFO usp.fetch_parse [43159/MainThread]: Parsing sitemap from URL https://ceaksan.com/sitemap...\n",
      "2021-07-19 23:10:22,158 INFO usp.fetch_parse [43159/MainThread]: Fetching level 0 sitemap from https://ceaksan.com/sitemap_index.xml...\n",
      "2021-07-19 23:10:22,159 INFO usp.helpers [43159/MainThread]: Fetching URL https://ceaksan.com/sitemap_index.xml...\n",
      "2021-07-19 23:10:23,402 WARNING usp.helpers [43159/MainThread]: Request for URL https://ceaksan.com/sitemap_index.xml failed: 404 Not Found\n",
      "2021-07-19 23:10:23,403 INFO usp.helpers [43159/MainThread]: Not retrying for URL https://ceaksan.com/sitemap_index.xml\n",
      "2021-07-19 23:10:23,404 INFO usp.fetch_parse [43159/MainThread]: Fetching level 0 sitemap from https://ceaksan.com/sitemap-index.xml.gz...\n",
      "2021-07-19 23:10:23,404 INFO usp.helpers [43159/MainThread]: Fetching URL https://ceaksan.com/sitemap-index.xml.gz...\n",
      "2021-07-19 23:10:24,682 WARNING usp.helpers [43159/MainThread]: Request for URL https://ceaksan.com/sitemap-index.xml.gz failed: 404 Not Found\n",
      "2021-07-19 23:10:24,683 INFO usp.helpers [43159/MainThread]: Not retrying for URL https://ceaksan.com/sitemap-index.xml.gz\n",
      "2021-07-19 23:10:24,684 INFO usp.fetch_parse [43159/MainThread]: Fetching level 0 sitemap from https://ceaksan.com/sitemap.xml...\n",
      "2021-07-19 23:10:24,684 INFO usp.helpers [43159/MainThread]: Fetching URL https://ceaksan.com/sitemap.xml...\n",
      "2021-07-19 23:10:26,206 INFO usp.fetch_parse [43159/MainThread]: Parsing sitemap from URL https://ceaksan.com/sitemap.xml...\n",
      "2021-07-19 23:10:26,304 INFO usp.fetch_parse [43159/MainThread]: Fetching level 0 sitemap from https://ceaksan.com/.sitemap.xml...\n",
      "2021-07-19 23:10:26,305 INFO usp.helpers [43159/MainThread]: Fetching URL https://ceaksan.com/.sitemap.xml...\n",
      "2021-07-19 23:10:27,598 WARNING usp.helpers [43159/MainThread]: Request for URL https://ceaksan.com/.sitemap.xml failed: 404 Not Found\n",
      "2021-07-19 23:10:27,599 INFO usp.helpers [43159/MainThread]: Not retrying for URL https://ceaksan.com/.sitemap.xml\n",
      "2021-07-19 23:10:27,599 INFO usp.fetch_parse [43159/MainThread]: Fetching level 0 sitemap from https://ceaksan.com/sitemap_index.xml.gz...\n",
      "2021-07-19 23:10:27,600 INFO usp.helpers [43159/MainThread]: Fetching URL https://ceaksan.com/sitemap_index.xml.gz...\n",
      "2021-07-19 23:10:29,034 WARNING usp.helpers [43159/MainThread]: Request for URL https://ceaksan.com/sitemap_index.xml.gz failed: 404 Not Found\n",
      "2021-07-19 23:10:29,035 INFO usp.helpers [43159/MainThread]: Not retrying for URL https://ceaksan.com/sitemap_index.xml.gz\n",
      "2021-07-19 23:10:29,036 INFO usp.fetch_parse [43159/MainThread]: Fetching level 0 sitemap from https://ceaksan.com/admin/config/search/xmlsitemap...\n",
      "2021-07-19 23:10:29,036 INFO usp.helpers [43159/MainThread]: Fetching URL https://ceaksan.com/admin/config/search/xmlsitemap...\n",
      "2021-07-19 23:10:30,359 INFO usp.fetch_parse [43159/MainThread]: Parsing sitemap from URL https://ceaksan.com/admin/config/search/xmlsitemap...\n",
      "2021-07-19 23:10:30,360 ERROR usp.fetch_parse [43159/MainThread]: Parsing sitemap from URL https://ceaksan.com/admin/config/search/xmlsitemap failed: Unsupported root element 'html'.\n",
      "2021-07-19 23:10:30,361 INFO usp.fetch_parse [43159/MainThread]: Fetching level 0 sitemap from https://ceaksan.com/sitemap.xml.gz...\n",
      "2021-07-19 23:10:30,361 INFO usp.helpers [43159/MainThread]: Fetching URL https://ceaksan.com/sitemap.xml.gz...\n",
      "2021-07-19 23:10:32,051 WARNING usp.helpers [43159/MainThread]: Request for URL https://ceaksan.com/sitemap.xml.gz failed: 404 Not Found\n",
      "2021-07-19 23:10:32,052 INFO usp.helpers [43159/MainThread]: Not retrying for URL https://ceaksan.com/sitemap.xml.gz\n",
      "2021-07-19 23:10:32,053 INFO usp.fetch_parse [43159/MainThread]: Fetching level 0 sitemap from https://ceaksan.com/sitemap/sitemap-index.xml...\n",
      "2021-07-19 23:10:32,054 INFO usp.helpers [43159/MainThread]: Fetching URL https://ceaksan.com/sitemap/sitemap-index.xml...\n",
      "2021-07-19 23:10:35,123 WARNING usp.helpers [43159/MainThread]: Request for URL https://ceaksan.com/sitemap/sitemap-index.xml failed: 404 Not Found\n",
      "2021-07-19 23:10:35,123 INFO usp.helpers [43159/MainThread]: Not retrying for URL https://ceaksan.com/sitemap/sitemap-index.xml\n",
      "2272 rows founded!\n"
     ]
    }
   ],
   "source": [
    "tree = sitemap_tree_for_homepage('https://ceaksan.com')\n",
    "\n",
    "pageDetails = [[\n",
    "    page.url,\n",
    "    page.last_modified.isoformat('#','hours').split('#')[0] if page.last_modified else None,\n",
    "    float(page.priority) if page.priority else None] for page in tree.all_pages()]\n",
    "\n",
    "with open('pages.csv', 'w+', newline='') as fl:\n",
    "    write = csv.writer(fl)\n",
    "    write.writerow(['URL', 'LastModified', 'Priority'])\n",
    "    write.writerows(pageDetails)\n",
    "\n",
    "print(f'{len(pageDetails)} rows founded!')"
   ]
  },
  {
   "cell_type": "code",
   "execution_count": 3,
   "metadata": {
    "tags": []
   },
   "outputs": [
    {
     "output_type": "execute_result",
     "data": {
      "text/plain": [
       "\"\\nwith open('pages.csv') as csvFile:\\n    csvReader = csv.reader(csvFile, delimiter=',')\\n    print([row[0] for row in csvReader][1:10])\\n\""
      ]
     },
     "metadata": {},
     "execution_count": 3
    }
   ],
   "source": [
    "'''\n",
    "with open('pages.csv') as csvFile:\n",
    "    csvReader = csv.reader(csvFile, delimiter=',')\n",
    "    print([row[0] for row in csvReader][1:10])\n",
    "'''"
   ]
  },
  {
   "cell_type": "code",
   "execution_count": 4,
   "metadata": {
    "tags": []
   },
   "outputs": [
    {
     "output_type": "execute_result",
     "data": {
      "text/plain": [
       "                                                 URL LastModified  Priority\n",
       "0  https://ceaksan.com/tr/posts/2020/05/2019-en-p...   2021-03-18       0.8\n",
       "1                       https://ceaksan.com/tr/about   2021-06-01       0.8\n",
       "2  https://ceaksan.com/tr/posts/2018/12/absolute-...   2021-04-23       0.8\n",
       "3  https://ceaksan.com/tr/posts/2021/02/acuity-sc...   2021-03-27       0.8\n",
       "4  https://ceaksan.com/tr/posts/2019/04/ads-hesap...   2021-04-23       0.8"
      ],
      "text/html": "<div>\n<style scoped>\n    .dataframe tbody tr th:only-of-type {\n        vertical-align: middle;\n    }\n\n    .dataframe tbody tr th {\n        vertical-align: top;\n    }\n\n    .dataframe thead th {\n        text-align: right;\n    }\n</style>\n<table border=\"1\" class=\"dataframe\">\n  <thead>\n    <tr style=\"text-align: right;\">\n      <th></th>\n      <th>URL</th>\n      <th>LastModified</th>\n      <th>Priority</th>\n    </tr>\n  </thead>\n  <tbody>\n    <tr>\n      <th>0</th>\n      <td>https://ceaksan.com/tr/posts/2020/05/2019-en-p...</td>\n      <td>2021-03-18</td>\n      <td>0.8</td>\n    </tr>\n    <tr>\n      <th>1</th>\n      <td>https://ceaksan.com/tr/about</td>\n      <td>2021-06-01</td>\n      <td>0.8</td>\n    </tr>\n    <tr>\n      <th>2</th>\n      <td>https://ceaksan.com/tr/posts/2018/12/absolute-...</td>\n      <td>2021-04-23</td>\n      <td>0.8</td>\n    </tr>\n    <tr>\n      <th>3</th>\n      <td>https://ceaksan.com/tr/posts/2021/02/acuity-sc...</td>\n      <td>2021-03-27</td>\n      <td>0.8</td>\n    </tr>\n    <tr>\n      <th>4</th>\n      <td>https://ceaksan.com/tr/posts/2019/04/ads-hesap...</td>\n      <td>2021-04-23</td>\n      <td>0.8</td>\n    </tr>\n  </tbody>\n</table>\n</div>"
     },
     "metadata": {},
     "execution_count": 4
    }
   ],
   "source": [
    "df = pd.read_csv('pages.csv')\n",
    "df.head()"
   ]
  },
  {
   "cell_type": "code",
   "execution_count": 5,
   "metadata": {},
   "outputs": [
    {
     "output_type": "stream",
     "name": "stdout",
     "text": [
      "(2272, 3)\nIndex(['URL', 'LastModified', 'Priority'], dtype='object')\n<bound method NDFrame.describe of                                                     URL LastModified  Priority\n0     https://ceaksan.com/tr/posts/2020/05/2019-en-p...   2021-03-18       0.8\n1                          https://ceaksan.com/tr/about   2021-06-01       0.8\n2     https://ceaksan.com/tr/posts/2018/12/absolute-...   2021-04-23       0.8\n3     https://ceaksan.com/tr/posts/2021/02/acuity-sc...   2021-03-27       0.8\n4     https://ceaksan.com/tr/posts/2019/04/ads-hesap...   2021-04-23       0.8\n...                                                 ...          ...       ...\n2267  https://ceaksan.com/tr/posts/2019/04/youtube-d...   2021-03-18       0.8\n2268  https://ceaksan.com/tr/posts/2020/06/youtube-k...   2021-04-14       0.8\n2269  https://ceaksan.com/tr/posts/2019/07/z-shell-o...   2021-03-18       0.8\n2270  https://ceaksan.com/tr/posts/2021/01/zoho-sale...   2021-03-27       0.8\n2271  https://ceaksan.com/tr/posts/2019/04/zotero-nedir   2021-03-18       0.8\n\n[2272 rows x 3 columns]>\n<bound method DataFrame.info of                                                     URL LastModified  Priority\n0     https://ceaksan.com/tr/posts/2020/05/2019-en-p...   2021-03-18       0.8\n1                          https://ceaksan.com/tr/about   2021-06-01       0.8\n2     https://ceaksan.com/tr/posts/2018/12/absolute-...   2021-04-23       0.8\n3     https://ceaksan.com/tr/posts/2021/02/acuity-sc...   2021-03-27       0.8\n4     https://ceaksan.com/tr/posts/2019/04/ads-hesap...   2021-04-23       0.8\n...                                                 ...          ...       ...\n2267  https://ceaksan.com/tr/posts/2019/04/youtube-d...   2021-03-18       0.8\n2268  https://ceaksan.com/tr/posts/2020/06/youtube-k...   2021-04-14       0.8\n2269  https://ceaksan.com/tr/posts/2019/07/z-shell-o...   2021-03-18       0.8\n2270  https://ceaksan.com/tr/posts/2021/01/zoho-sale...   2021-03-27       0.8\n2271  https://ceaksan.com/tr/posts/2019/04/zotero-nedir   2021-03-18       0.8\n\n[2272 rows x 3 columns]>\n"
     ]
    }
   ],
   "source": [
    "# https://pythontic.com/pandas/dataframe-attributes/introduction\n",
    "print(df.shape)\n",
    "print(df.columns)\n",
    "print(df.describe)\n",
    "print(df.info)"
   ]
  },
  {
   "cell_type": "code",
   "execution_count": 6,
   "metadata": {},
   "outputs": [],
   "source": [
    "def callbackResp(cll):\n",
    "    response = cll.result()\n",
    "    df['Status'] = response.status_code\n",
    "    df['Redirected'] = response.is_redirect\n",
    "    df['PermanentRedirection'] = response.is_permanent_redirect\n",
    "    df['IssueReason'] = response.reason if response.reason != 'OK' else None\n"
   ]
  },
  {
   "cell_type": "code",
   "execution_count": 9,
   "metadata": {
    "tags": []
   },
   "outputs": [
    {
     "output_type": "stream",
     "name": "stdout",
     "text": [
      "Task 1 running\n\n"
     ]
    }
   ],
   "source": [
    "with ThreadPoolExecutor(max_workers=1) as executor:\n",
    "    for url in df['URL']:\n",
    "        cll = executor.submit(requests.head, url)\n",
    "        cll.add_done_callback(callbackResp)\n",
    "        if(cll.running()):\n",
    "            print('Task 1 running')\n",
    "            print()\n",
    "        elif(cll.done()):\n",
    "            print(cll.result())\n",
    "            break"
   ]
  },
  {
   "cell_type": "code",
   "execution_count": null,
   "metadata": {},
   "outputs": [],
   "source": [
    "df.head()"
   ]
  },
  {
   "cell_type": "code",
   "execution_count": null,
   "metadata": {
    "tags": []
   },
   "outputs": [],
   "source": [
    "print(df.columns)\n",
    "print(list(set(df['Priority'])))\n",
    "print(list(set(df['Status'])))\n",
    "print(list(set(df['Redirected'])))\n",
    "print(list(set(df['PermanentRedirection'])))\n",
    "print(list(set(df['IssueReason'])))"
   ]
  },
  {
   "cell_type": "code",
   "execution_count": null,
   "metadata": {},
   "outputs": [],
   "source": [
    "df.loc[df.Priority > 0.6]"
   ]
  },
  {
   "cell_type": "code",
   "execution_count": null,
   "metadata": {},
   "outputs": [],
   "source": [
    "# df['Status'].value_counts()\n",
    "df[['URL', 'Status']].head(10)"
   ]
  },
  {
   "cell_type": "code",
   "execution_count": null,
   "metadata": {},
   "outputs": [],
   "source": [
    "df['Status'] = (pd\n",
    "    .Categorical(\n",
    "        df['Status'],\n",
    "        categories=list(set(df['Status'])),\n",
    "        ordered=False))\n",
    "\n",
    "df['Priority'] = (pd\n",
    "    .Categorical(\n",
    "        df['Priority'],\n",
    "        categories=[float(i/10) for i in range(0,10,1)],\n",
    "        ordered=True))\n",
    "\n",
    "df['Redirected'] = (pd\n",
    "    .Categorical(\n",
    "        df['Redirected'],\n",
    "        categories=list(set(df['Redirected'])),\n",
    "        ordered=False))\n",
    "\n",
    "df['PermanentRedirection'] = (pd\n",
    "    .Categorical(\n",
    "        df['PermanentRedirection'],\n",
    "        categories=list(set(df['PermanentRedirection'])),\n",
    "        ordered=False))"
   ]
  },
  {
   "cell_type": "code",
   "execution_count": null,
   "metadata": {},
   "outputs": [],
   "source": [
    "df[['URL', 'Status','Priority']].sample(5)"
   ]
  },
  {
   "cell_type": "code",
   "execution_count": null,
   "metadata": {},
   "outputs": [],
   "source": [
    "df.to_csv('sitemap.zip', index=False, compression=dict(method='zip',archive_name='pages-new.csv'))"
   ]
  },
  {
   "cell_type": "code",
   "execution_count": null,
   "metadata": {},
   "outputs": [],
   "source": []
  }
 ]
}