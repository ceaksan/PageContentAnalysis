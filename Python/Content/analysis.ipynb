{
 "metadata": {
  "language_info": {
   "codemirror_mode": {
    "name": "ipython",
    "version": 3
   },
   "file_extension": ".py",
   "mimetype": "text/x-python",
   "name": "python",
   "nbconvert_exporter": "python",
   "pygments_lexer": "ipython3",
   "version": "3.9.4"
  },
  "orig_nbformat": 4,
  "kernelspec": {
   "name": "python3",
   "display_name": "Python 3.9.4 64-bit ('python@3.9')"
  },
  "interpreter": {
   "hash": "ac2eaa0ea0ebeafcc7822e65e46aa9d4f966f30b695406963e145ea4a91cd4fc"
  }
 },
 "nbformat": 4,
 "nbformat_minor": 2,
 "cells": [
  {
   "cell_type": "code",
   "execution_count": 1,
   "metadata": {},
   "outputs": [],
   "source": [
    "# !pip install --upgrade google-api-python-client google-auth-httplib2 google-auth-oauthlib oauth2client"
   ]
  },
  {
   "cell_type": "code",
   "execution_count": 2,
   "metadata": {},
   "outputs": [],
   "source": [
    "# GA\n",
    "# https://stackoverflow.com/questions/12837748/analytics-google-api-error-403-user-does-not-have-any-google-analytics-account\n",
    "# https://stackoverflow.com/questions/59451776/parsing-google-api-object-into-pandas-dataframe\n",
    "# https://developers.google.com/analytics/devguides/reporting/core/v4\n",
    "#\n",
    "# GSC\n",
    "# https://developers.google.com/search/apis/indexing-api/v3/using-api?hl=tr\n",
    "# https://developers.google.com/search/apis/indexing-api/v3/prereqs?hl=tr\n",
    "# https://developers.google.com/webmaster-tools/search-console-api-original/v3/quickstart/quickstart-python"
   ]
  },
  {
   "cell_type": "code",
   "execution_count": 3,
   "metadata": {},
   "outputs": [],
   "source": [
    "#import os.path\n",
    "import pandas as pd\n",
    "#import json\n",
    "#import httplib2\n",
    "\n",
    "#from apiclient.discovery import build\n",
    "#from oauth2client.service_account import ServiceAccountCredentials\n",
    "#from apiclient import errors\n",
    "#from apiclient.discovery import build\n",
    "#from oauth2client.client import OAuth2WebServerFlow\n",
    "\n",
    "from googleapiclient.discovery import build\n",
    "from oauth2client.service_account import ServiceAccountCredentials"
   ]
  },
  {
   "cell_type": "code",
   "execution_count": 4,
   "metadata": {},
   "outputs": [],
   "source": [
    "# GENERIC\n",
    "KEY_FILE_LOCATION = 'r-test-308919-e4b2af358d7e.json'\n",
    "DATE_RANGES = [{\n",
    "    'startDate': '2020-06-30',\n",
    "    'endDate': '2021-06-30'\n",
    "}]\n",
    "SCOPES = ['https://www.googleapis.com/auth/analytics.readonly', 'https://www.googleapis.com/auth/webmasters.readonly']\n",
    "CREDENTIALS = ServiceAccountCredentials.from_json_keyfile_name(KEY_FILE_LOCATION, SCOPES)\n",
    "\n",
    "# GA\n",
    "GA_VIEW_ID = '109466096'\n",
    "GA_BODY = {\n",
    "        'reportRequests': [{\n",
    "            'viewId': GA_VIEW_ID,\n",
    "            'dateRanges': DATE_RANGES,\n",
    "            'metrics': [\n",
    "                # {\n",
    "                #     'expression': 'ga:sessions',\n",
    "                #     'alias': 'Sessions'\n",
    "                # },\n",
    "                {\n",
    "                    'expression': 'ga:bounceRate',\n",
    "                    'alias': 'BounceRate'\n",
    "                },\n",
    "                {\n",
    "                    'expression': 'ga:pageviews',\n",
    "                    'alias': 'Pageviews'\n",
    "                },\n",
    "                {\n",
    "                    'expression': 'ga:avgTimeOnPage',\n",
    "                    'alias': 'AvgTimeOnPage'\n",
    "                },\n",
    "                {\n",
    "                    'expression': 'ga:avgSessionDuration',\n",
    "                    'alias': 'AvgSessionDuration'\n",
    "                },\n",
    "                {\n",
    "                    'expression': 'ga:avgPageLoadTime',\n",
    "                    'alias': 'AvgPageLoadTime'\n",
    "                },\n",
    "            ],\n",
    "            'dimensions': [\n",
    "                {'name': 'ga:pagePath'},\n",
    "                {'name': 'ga:pageTitle'},\n",
    "            ],\n",
    "            'orderBys': [{\n",
    "                \"fieldName\": \"ga:pageviews\",\n",
    "                \"orderType\": \"VALUE\",\n",
    "                \"sortOrder\": \"DESCENDING\"\n",
    "            }],\n",
    "            #\"segments\":[{\n",
    "            #    \"segmentId\": \"gaid::-3\"\n",
    "            #}],     \"pageSize\": 10000,\n",
    "        }],\n",
    "    }\n",
    "\n",
    "# GSC\n",
    "REDIRECT_URI = 'urn:ietf:wg:oauth:2.0:oob'\n",
    "URL = 'https://ceaksan.com'\n",
    "GSC_BODY = {\n",
    "    'startDate': DATE_RANGES[0]['startDate'],\n",
    "    'endDate': DATE_RANGES[0]['endDate'],\n",
    "    'dimensions': ['query', 'page'],\n",
    "    'rowLimit': 10000\n",
    "}"
   ]
  },
  {
   "cell_type": "code",
   "execution_count": 6,
   "metadata": {},
   "outputs": [],
   "source": []
  },
  {
   "cell_type": "code",
   "execution_count": 5,
   "metadata": {},
   "outputs": [],
   "source": [
    "def print_response(response):\n",
    "    list = []\n",
    "\n",
    "    for report in response.get('reports', []):\n",
    "        columnHeader = report.get('columnHeader', {})\n",
    "        dimensionHeaders = columnHeader.get('dimensions', [])\n",
    "        metricHeaders = columnHeader.get('metricHeader', {}).get('metricHeaderEntries', [])\n",
    "\n",
    "    for row in report.get('data', {}).get('rows', []):\n",
    "        dict = {}\n",
    "\n",
    "        for header, dimension in zip(dimensionHeaders, row.get('dimensions', [])):\n",
    "            dict[header] = dimension\n",
    "\n",
    "        for i, values in enumerate(row.get('metrics', [])):\n",
    "            for metric, value in zip(metricHeaders, values.get('values')):\n",
    "                if ',' in value or '.' in value:\n",
    "                    dict[metric.get('name')] = float(value)\n",
    "                else:\n",
    "                    dict[metric.get('name')] = int(value)\n",
    "\n",
    "        list.append(dict)\n",
    "    return pd.DataFrame(list)"
   ]
  },
  {
   "cell_type": "code",
   "execution_count": 9,
   "metadata": {
    "tags": []
   },
   "outputs": [],
   "source": [
    "# GA DATA\n",
    "\n",
    "GA_response = build('analyticsreporting', 'v4', credentials = CREDENTIALS).reports().batchGet(body = GA_BODY).execute()\n",
    "\n",
    "(print_response(GA_response)\n",
    "    .rename(columns = {\n",
    "        'ga:pagePath': 'PagePath',\n",
    "        'ga:pageTitle': 'PageTitle'\n",
    "    })\n",
    ".to_csv('GA-{}.csv'.format(DATE_RANGES[0]['startDate']), index = False))"
   ]
  },
  {
   "cell_type": "code",
   "execution_count": 7,
   "metadata": {},
   "outputs": [],
   "source": [
    "# GSC DATA\n",
    "\n",
    "GSC_response = build('webmasters', 'v3', credentials = CREDENTIALS).searchanalytics().query(siteUrl = URL, body = GSC_BODY).execute()\n",
    "df_GSC = pd.json_normalize(GSC_response['rows'])\n",
    "\n",
    "for i, d in enumerate(GSC_BODY['dimensions']):\n",
    "    df_GSC[d] = df_GSC['keys'].apply(lambda x: x[i])\n",
    "\n",
    "df_GSC.drop(columns = 'keys', inplace = True)\n",
    "df_GSC.to_csv('GSC-{}.csv'.format(DATE_RANGES[0]['startDate']), index = False)"
   ]
  },
  {
   "cell_type": "code",
   "execution_count": 8,
   "metadata": {},
   "outputs": [
    {
     "output_type": "error",
     "ename": "FileNotFoundError",
     "evalue": "[Errno 2] No such file or directory: 'GA-2020-06-30.csv'",
     "traceback": [
      "\u001b[0;31m---------------------------------------------------------------------------\u001b[0m",
      "\u001b[0;31mFileNotFoundError\u001b[0m                         Traceback (most recent call last)",
      "\u001b[0;32m<ipython-input-8-911116bbedd5>\u001b[0m in \u001b[0;36m<module>\u001b[0;34m\u001b[0m\n\u001b[0;32m----> 1\u001b[0;31m \u001b[0mdf_GA\u001b[0m \u001b[0;34m=\u001b[0m \u001b[0mpd\u001b[0m\u001b[0;34m.\u001b[0m\u001b[0mread_csv\u001b[0m\u001b[0;34m(\u001b[0m\u001b[0;34m'GA-2020-06-30.csv'\u001b[0m\u001b[0;34m)\u001b[0m\u001b[0;34m\u001b[0m\u001b[0;34m\u001b[0m\u001b[0m\n\u001b[0m\u001b[1;32m      2\u001b[0m \u001b[0mdf_GSC\u001b[0m \u001b[0;34m=\u001b[0m \u001b[0mpd\u001b[0m\u001b[0;34m.\u001b[0m\u001b[0mread_csv\u001b[0m\u001b[0;34m(\u001b[0m\u001b[0;34m'GSC-2020-06-30.csv'\u001b[0m\u001b[0;34m)\u001b[0m\u001b[0;34m\u001b[0m\u001b[0;34m\u001b[0m\u001b[0m\n",
      "\u001b[0;32m/usr/local/lib/python3.9/site-packages/pandas/io/parsers.py\u001b[0m in \u001b[0;36mread_csv\u001b[0;34m(filepath_or_buffer, sep, delimiter, header, names, index_col, usecols, squeeze, prefix, mangle_dupe_cols, dtype, engine, converters, true_values, false_values, skipinitialspace, skiprows, skipfooter, nrows, na_values, keep_default_na, na_filter, verbose, skip_blank_lines, parse_dates, infer_datetime_format, keep_date_col, date_parser, dayfirst, cache_dates, iterator, chunksize, compression, thousands, decimal, lineterminator, quotechar, quoting, doublequote, escapechar, comment, encoding, dialect, error_bad_lines, warn_bad_lines, delim_whitespace, low_memory, memory_map, float_precision, storage_options)\u001b[0m\n\u001b[1;32m    608\u001b[0m     \u001b[0mkwds\u001b[0m\u001b[0;34m.\u001b[0m\u001b[0mupdate\u001b[0m\u001b[0;34m(\u001b[0m\u001b[0mkwds_defaults\u001b[0m\u001b[0;34m)\u001b[0m\u001b[0;34m\u001b[0m\u001b[0;34m\u001b[0m\u001b[0m\n\u001b[1;32m    609\u001b[0m \u001b[0;34m\u001b[0m\u001b[0m\n\u001b[0;32m--> 610\u001b[0;31m     \u001b[0;32mreturn\u001b[0m \u001b[0m_read\u001b[0m\u001b[0;34m(\u001b[0m\u001b[0mfilepath_or_buffer\u001b[0m\u001b[0;34m,\u001b[0m \u001b[0mkwds\u001b[0m\u001b[0;34m)\u001b[0m\u001b[0;34m\u001b[0m\u001b[0;34m\u001b[0m\u001b[0m\n\u001b[0m\u001b[1;32m    611\u001b[0m \u001b[0;34m\u001b[0m\u001b[0m\n\u001b[1;32m    612\u001b[0m \u001b[0;34m\u001b[0m\u001b[0m\n",
      "\u001b[0;32m/usr/local/lib/python3.9/site-packages/pandas/io/parsers.py\u001b[0m in \u001b[0;36m_read\u001b[0;34m(filepath_or_buffer, kwds)\u001b[0m\n\u001b[1;32m    460\u001b[0m \u001b[0;34m\u001b[0m\u001b[0m\n\u001b[1;32m    461\u001b[0m     \u001b[0;31m# Create the parser.\u001b[0m\u001b[0;34m\u001b[0m\u001b[0;34m\u001b[0m\u001b[0;34m\u001b[0m\u001b[0m\n\u001b[0;32m--> 462\u001b[0;31m     \u001b[0mparser\u001b[0m \u001b[0;34m=\u001b[0m \u001b[0mTextFileReader\u001b[0m\u001b[0;34m(\u001b[0m\u001b[0mfilepath_or_buffer\u001b[0m\u001b[0;34m,\u001b[0m \u001b[0;34m**\u001b[0m\u001b[0mkwds\u001b[0m\u001b[0;34m)\u001b[0m\u001b[0;34m\u001b[0m\u001b[0;34m\u001b[0m\u001b[0m\n\u001b[0m\u001b[1;32m    463\u001b[0m \u001b[0;34m\u001b[0m\u001b[0m\n\u001b[1;32m    464\u001b[0m     \u001b[0;32mif\u001b[0m \u001b[0mchunksize\u001b[0m \u001b[0;32mor\u001b[0m \u001b[0miterator\u001b[0m\u001b[0;34m:\u001b[0m\u001b[0;34m\u001b[0m\u001b[0;34m\u001b[0m\u001b[0m\n",
      "\u001b[0;32m/usr/local/lib/python3.9/site-packages/pandas/io/parsers.py\u001b[0m in \u001b[0;36m__init__\u001b[0;34m(self, f, engine, **kwds)\u001b[0m\n\u001b[1;32m    817\u001b[0m             \u001b[0mself\u001b[0m\u001b[0;34m.\u001b[0m\u001b[0moptions\u001b[0m\u001b[0;34m[\u001b[0m\u001b[0;34m\"has_index_names\"\u001b[0m\u001b[0;34m]\u001b[0m \u001b[0;34m=\u001b[0m \u001b[0mkwds\u001b[0m\u001b[0;34m[\u001b[0m\u001b[0;34m\"has_index_names\"\u001b[0m\u001b[0;34m]\u001b[0m\u001b[0;34m\u001b[0m\u001b[0;34m\u001b[0m\u001b[0m\n\u001b[1;32m    818\u001b[0m \u001b[0;34m\u001b[0m\u001b[0m\n\u001b[0;32m--> 819\u001b[0;31m         \u001b[0mself\u001b[0m\u001b[0;34m.\u001b[0m\u001b[0m_engine\u001b[0m \u001b[0;34m=\u001b[0m \u001b[0mself\u001b[0m\u001b[0;34m.\u001b[0m\u001b[0m_make_engine\u001b[0m\u001b[0;34m(\u001b[0m\u001b[0mself\u001b[0m\u001b[0;34m.\u001b[0m\u001b[0mengine\u001b[0m\u001b[0;34m)\u001b[0m\u001b[0;34m\u001b[0m\u001b[0;34m\u001b[0m\u001b[0m\n\u001b[0m\u001b[1;32m    820\u001b[0m \u001b[0;34m\u001b[0m\u001b[0m\n\u001b[1;32m    821\u001b[0m     \u001b[0;32mdef\u001b[0m \u001b[0mclose\u001b[0m\u001b[0;34m(\u001b[0m\u001b[0mself\u001b[0m\u001b[0;34m)\u001b[0m\u001b[0;34m:\u001b[0m\u001b[0;34m\u001b[0m\u001b[0;34m\u001b[0m\u001b[0m\n",
      "\u001b[0;32m/usr/local/lib/python3.9/site-packages/pandas/io/parsers.py\u001b[0m in \u001b[0;36m_make_engine\u001b[0;34m(self, engine)\u001b[0m\n\u001b[1;32m   1048\u001b[0m             )\n\u001b[1;32m   1049\u001b[0m         \u001b[0;31m# error: Too many arguments for \"ParserBase\"\u001b[0m\u001b[0;34m\u001b[0m\u001b[0;34m\u001b[0m\u001b[0;34m\u001b[0m\u001b[0m\n\u001b[0;32m-> 1050\u001b[0;31m         \u001b[0;32mreturn\u001b[0m \u001b[0mmapping\u001b[0m\u001b[0;34m[\u001b[0m\u001b[0mengine\u001b[0m\u001b[0;34m]\u001b[0m\u001b[0;34m(\u001b[0m\u001b[0mself\u001b[0m\u001b[0;34m.\u001b[0m\u001b[0mf\u001b[0m\u001b[0;34m,\u001b[0m \u001b[0;34m**\u001b[0m\u001b[0mself\u001b[0m\u001b[0;34m.\u001b[0m\u001b[0moptions\u001b[0m\u001b[0;34m)\u001b[0m  \u001b[0;31m# type: ignore[call-arg]\u001b[0m\u001b[0;34m\u001b[0m\u001b[0;34m\u001b[0m\u001b[0m\n\u001b[0m\u001b[1;32m   1051\u001b[0m \u001b[0;34m\u001b[0m\u001b[0m\n\u001b[1;32m   1052\u001b[0m     \u001b[0;32mdef\u001b[0m \u001b[0m_failover_to_python\u001b[0m\u001b[0;34m(\u001b[0m\u001b[0mself\u001b[0m\u001b[0;34m)\u001b[0m\u001b[0;34m:\u001b[0m\u001b[0;34m\u001b[0m\u001b[0;34m\u001b[0m\u001b[0m\n",
      "\u001b[0;32m/usr/local/lib/python3.9/site-packages/pandas/io/parsers.py\u001b[0m in \u001b[0;36m__init__\u001b[0;34m(self, src, **kwds)\u001b[0m\n\u001b[1;32m   1865\u001b[0m \u001b[0;34m\u001b[0m\u001b[0m\n\u001b[1;32m   1866\u001b[0m         \u001b[0;31m# open handles\u001b[0m\u001b[0;34m\u001b[0m\u001b[0;34m\u001b[0m\u001b[0;34m\u001b[0m\u001b[0m\n\u001b[0;32m-> 1867\u001b[0;31m         \u001b[0mself\u001b[0m\u001b[0;34m.\u001b[0m\u001b[0m_open_handles\u001b[0m\u001b[0;34m(\u001b[0m\u001b[0msrc\u001b[0m\u001b[0;34m,\u001b[0m \u001b[0mkwds\u001b[0m\u001b[0;34m)\u001b[0m\u001b[0;34m\u001b[0m\u001b[0;34m\u001b[0m\u001b[0m\n\u001b[0m\u001b[1;32m   1868\u001b[0m         \u001b[0;32massert\u001b[0m \u001b[0mself\u001b[0m\u001b[0;34m.\u001b[0m\u001b[0mhandles\u001b[0m \u001b[0;32mis\u001b[0m \u001b[0;32mnot\u001b[0m \u001b[0;32mNone\u001b[0m\u001b[0;34m\u001b[0m\u001b[0;34m\u001b[0m\u001b[0m\n\u001b[1;32m   1869\u001b[0m         \u001b[0;32mfor\u001b[0m \u001b[0mkey\u001b[0m \u001b[0;32min\u001b[0m \u001b[0;34m(\u001b[0m\u001b[0;34m\"storage_options\"\u001b[0m\u001b[0;34m,\u001b[0m \u001b[0;34m\"encoding\"\u001b[0m\u001b[0;34m,\u001b[0m \u001b[0;34m\"memory_map\"\u001b[0m\u001b[0;34m,\u001b[0m \u001b[0;34m\"compression\"\u001b[0m\u001b[0;34m)\u001b[0m\u001b[0;34m:\u001b[0m\u001b[0;34m\u001b[0m\u001b[0;34m\u001b[0m\u001b[0m\n",
      "\u001b[0;32m/usr/local/lib/python3.9/site-packages/pandas/io/parsers.py\u001b[0m in \u001b[0;36m_open_handles\u001b[0;34m(self, src, kwds)\u001b[0m\n\u001b[1;32m   1360\u001b[0m         \u001b[0mLet\u001b[0m \u001b[0mthe\u001b[0m \u001b[0mreaders\u001b[0m \u001b[0mopen\u001b[0m \u001b[0mIOHanldes\u001b[0m \u001b[0mafter\u001b[0m \u001b[0mthey\u001b[0m \u001b[0mare\u001b[0m \u001b[0mdone\u001b[0m \u001b[0;32mwith\u001b[0m \u001b[0mtheir\u001b[0m \u001b[0mpotential\u001b[0m \u001b[0mraises\u001b[0m\u001b[0;34m.\u001b[0m\u001b[0;34m\u001b[0m\u001b[0;34m\u001b[0m\u001b[0m\n\u001b[1;32m   1361\u001b[0m         \"\"\"\n\u001b[0;32m-> 1362\u001b[0;31m         self.handles = get_handle(\n\u001b[0m\u001b[1;32m   1363\u001b[0m             \u001b[0msrc\u001b[0m\u001b[0;34m,\u001b[0m\u001b[0;34m\u001b[0m\u001b[0;34m\u001b[0m\u001b[0m\n\u001b[1;32m   1364\u001b[0m             \u001b[0;34m\"r\"\u001b[0m\u001b[0;34m,\u001b[0m\u001b[0;34m\u001b[0m\u001b[0;34m\u001b[0m\u001b[0m\n",
      "\u001b[0;32m/usr/local/lib/python3.9/site-packages/pandas/io/common.py\u001b[0m in \u001b[0;36mget_handle\u001b[0;34m(path_or_buf, mode, encoding, compression, memory_map, is_text, errors, storage_options)\u001b[0m\n\u001b[1;32m    640\u001b[0m                 \u001b[0merrors\u001b[0m \u001b[0;34m=\u001b[0m \u001b[0;34m\"replace\"\u001b[0m\u001b[0;34m\u001b[0m\u001b[0;34m\u001b[0m\u001b[0m\n\u001b[1;32m    641\u001b[0m             \u001b[0;31m# Encoding\u001b[0m\u001b[0;34m\u001b[0m\u001b[0;34m\u001b[0m\u001b[0;34m\u001b[0m\u001b[0m\n\u001b[0;32m--> 642\u001b[0;31m             handle = open(\n\u001b[0m\u001b[1;32m    643\u001b[0m                 \u001b[0mhandle\u001b[0m\u001b[0;34m,\u001b[0m\u001b[0;34m\u001b[0m\u001b[0;34m\u001b[0m\u001b[0m\n\u001b[1;32m    644\u001b[0m                 \u001b[0mioargs\u001b[0m\u001b[0;34m.\u001b[0m\u001b[0mmode\u001b[0m\u001b[0;34m,\u001b[0m\u001b[0;34m\u001b[0m\u001b[0;34m\u001b[0m\u001b[0m\n",
      "\u001b[0;31mFileNotFoundError\u001b[0m: [Errno 2] No such file or directory: 'GA-2020-06-30.csv'"
     ]
    }
   ],
   "source": [
    "df_GA = pd.read_csv('GA-2020-06-30.csv')\n",
    "df_GSC = pd.read_csv('GSC-2020-06-30.csv')"
   ]
  },
  {
   "cell_type": "code",
   "execution_count": 9,
   "metadata": {},
   "outputs": [
    {
     "output_type": "execute_result",
     "data": {
      "text/plain": [
       "                                               PagePath  \\\n",
       "0                        /tr/primary-unique-foreign-key   \n",
       "1                                 /tr/pivot-table-nedir   \n",
       "2                        /tr/primary-unique-foreign-key   \n",
       "3                      /tr/join-types-tablo-birlestirme   \n",
       "4                      /tr/join-types-tablo-birlestirme   \n",
       "...                                                 ...   \n",
       "5792                  /wp-json/wp/v2/posts?per_page=100   \n",
       "5793                                          /wp-login   \n",
       "5794                                          (not set)   \n",
       "5795  /l/wp-ads-conversion?wanted=true&offer_code=db...   \n",
       "5796                          /tr/facebook-pixel-helper   \n",
       "\n",
       "                                              PageTitle  BounceRate  \\\n",
       "0     Key, Primary Key, Unique Key ve Foreign Key Ta...   54.429638   \n",
       "1        Pivot Table Nedir? Nasıl Kullanılır? | ceaksan   48.717519   \n",
       "2     Key, Primary Key, Unique Key ve Foreign Key Ta...   22.555644   \n",
       "3     JOIN Tipleri ve SQL Tablo Birleştirme İşlemler...   47.385554   \n",
       "4     JOIN Tipleri ve SQL Tablo Birleştirme İşlemler...   29.153269   \n",
       "...                                                 ...         ...   \n",
       "5792                           Page not Found | ceaksan    0.000000   \n",
       "5793                           Page not Found | ceaksan    0.000000   \n",
       "5794                                          (not set)    0.000000   \n",
       "5795                            WP Plugin: Ads Tracking    0.000000   \n",
       "5796  ما هو Facebook Pixel Helper؟ كيف تستعمل؟ | سيكسان    0.000000   \n",
       "\n",
       "      Pageviews  AvgTimeOnPage  AvgSessionDuration  AvgPageLoadTime  \n",
       "0          7511     507.641135           52.848440         5.228512  \n",
       "1          6320     663.694960           42.499581         6.867565  \n",
       "2          5473     666.182952           64.347178         8.077174  \n",
       "3          5244     643.019074           49.546083         5.754970  \n",
       "4          5022     681.349206           55.234298         5.713333  \n",
       "...         ...            ...                 ...              ...  \n",
       "5792          1       6.000000            0.000000         0.000000  \n",
       "5793          1       0.000000            0.000000         0.000000  \n",
       "5794          0       0.000000         2225.000000         0.000000  \n",
       "5795          0       0.000000           52.000000         3.127500  \n",
       "5796          0       0.000000            0.000000         4.022000  \n",
       "\n",
       "[5797 rows x 7 columns]"
      ],
      "text/html": "<div>\n<style scoped>\n    .dataframe tbody tr th:only-of-type {\n        vertical-align: middle;\n    }\n\n    .dataframe tbody tr th {\n        vertical-align: top;\n    }\n\n    .dataframe thead th {\n        text-align: right;\n    }\n</style>\n<table border=\"1\" class=\"dataframe\">\n  <thead>\n    <tr style=\"text-align: right;\">\n      <th></th>\n      <th>PagePath</th>\n      <th>PageTitle</th>\n      <th>BounceRate</th>\n      <th>Pageviews</th>\n      <th>AvgTimeOnPage</th>\n      <th>AvgSessionDuration</th>\n      <th>AvgPageLoadTime</th>\n    </tr>\n  </thead>\n  <tbody>\n    <tr>\n      <th>0</th>\n      <td>/tr/primary-unique-foreign-key</td>\n      <td>Key, Primary Key, Unique Key ve Foreign Key Ta...</td>\n      <td>54.429638</td>\n      <td>7511</td>\n      <td>507.641135</td>\n      <td>52.848440</td>\n      <td>5.228512</td>\n    </tr>\n    <tr>\n      <th>1</th>\n      <td>/tr/pivot-table-nedir</td>\n      <td>Pivot Table Nedir? Nasıl Kullanılır? | ceaksan</td>\n      <td>48.717519</td>\n      <td>6320</td>\n      <td>663.694960</td>\n      <td>42.499581</td>\n      <td>6.867565</td>\n    </tr>\n    <tr>\n      <th>2</th>\n      <td>/tr/primary-unique-foreign-key</td>\n      <td>Key, Primary Key, Unique Key ve Foreign Key Ta...</td>\n      <td>22.555644</td>\n      <td>5473</td>\n      <td>666.182952</td>\n      <td>64.347178</td>\n      <td>8.077174</td>\n    </tr>\n    <tr>\n      <th>3</th>\n      <td>/tr/join-types-tablo-birlestirme</td>\n      <td>JOIN Tipleri ve SQL Tablo Birleştirme İşlemler...</td>\n      <td>47.385554</td>\n      <td>5244</td>\n      <td>643.019074</td>\n      <td>49.546083</td>\n      <td>5.754970</td>\n    </tr>\n    <tr>\n      <th>4</th>\n      <td>/tr/join-types-tablo-birlestirme</td>\n      <td>JOIN Tipleri ve SQL Tablo Birleştirme İşlemler...</td>\n      <td>29.153269</td>\n      <td>5022</td>\n      <td>681.349206</td>\n      <td>55.234298</td>\n      <td>5.713333</td>\n    </tr>\n    <tr>\n      <th>...</th>\n      <td>...</td>\n      <td>...</td>\n      <td>...</td>\n      <td>...</td>\n      <td>...</td>\n      <td>...</td>\n      <td>...</td>\n    </tr>\n    <tr>\n      <th>5792</th>\n      <td>/wp-json/wp/v2/posts?per_page=100</td>\n      <td>Page not Found | ceaksan</td>\n      <td>0.000000</td>\n      <td>1</td>\n      <td>6.000000</td>\n      <td>0.000000</td>\n      <td>0.000000</td>\n    </tr>\n    <tr>\n      <th>5793</th>\n      <td>/wp-login</td>\n      <td>Page not Found | ceaksan</td>\n      <td>0.000000</td>\n      <td>1</td>\n      <td>0.000000</td>\n      <td>0.000000</td>\n      <td>0.000000</td>\n    </tr>\n    <tr>\n      <th>5794</th>\n      <td>(not set)</td>\n      <td>(not set)</td>\n      <td>0.000000</td>\n      <td>0</td>\n      <td>0.000000</td>\n      <td>2225.000000</td>\n      <td>0.000000</td>\n    </tr>\n    <tr>\n      <th>5795</th>\n      <td>/l/wp-ads-conversion?wanted=true&amp;offer_code=db...</td>\n      <td>WP Plugin: Ads Tracking</td>\n      <td>0.000000</td>\n      <td>0</td>\n      <td>0.000000</td>\n      <td>52.000000</td>\n      <td>3.127500</td>\n    </tr>\n    <tr>\n      <th>5796</th>\n      <td>/tr/facebook-pixel-helper</td>\n      <td>ما هو Facebook Pixel Helper؟ كيف تستعمل؟ | سيكسان</td>\n      <td>0.000000</td>\n      <td>0</td>\n      <td>0.000000</td>\n      <td>0.000000</td>\n      <td>4.022000</td>\n    </tr>\n  </tbody>\n</table>\n<p>5797 rows × 7 columns</p>\n</div>"
     },
     "metadata": {},
     "execution_count": 9
    }
   ],
   "source": [
    "df_GA"
   ]
  },
  {
   "cell_type": "code",
   "execution_count": 10,
   "metadata": {},
   "outputs": [
    {
     "output_type": "execute_result",
     "data": {
      "text/plain": [
       "      clicks  impressions       ctr   position                  query  \\\n",
       "0       2848        24149  0.117934   2.526274           mockup nedir   \n",
       "1       2573         6297  0.408607   1.604891            regex nedir   \n",
       "2       1941         5156  0.376455   1.742630      foreign key nedir   \n",
       "3       1821        54251  0.033566   4.536893              api nedir   \n",
       "4       1612         4048  0.398221   1.383152       middleware nedir   \n",
       "...      ...          ...       ...        ...                    ...   \n",
       "9995       1           12  0.083333   8.750000  node js vs express js   \n",
       "9996       1            4  0.250000   7.750000        node js webpack   \n",
       "9997       1           14  0.071429  27.571429            node js xml   \n",
       "9998       1            4  0.250000  24.500000     node js xml parser   \n",
       "9999       1            2  0.500000   5.000000         node js xml2js   \n",
       "\n",
       "                                                   page  \n",
       "0                   https://ceaksan.com/tr/mockup-nedir  \n",
       "1     https://ceaksan.com/tr/regex-regular-expressio...  \n",
       "2     https://ceaksan.com/tr/primary-unique-foreign-key  \n",
       "3                      https://ceaksan.com/tr/api-nedir  \n",
       "4     https://ceaksan.com/tr/middleware-nedir-ne-ise...  \n",
       "...                                                 ...  \n",
       "9995            https://ceaksan.com/tr/express-js-nedir  \n",
       "9996         https://ceaksan.com/tr/posts/webpack-nedir  \n",
       "9997  https://ceaksan.com/tr/node-js-ile-xml-json-is...  \n",
       "9998  https://ceaksan.com/tr/posts/node-js-ile-xml-j...  \n",
       "9999  https://ceaksan.com/tr/node-js-ile-xml-json-is...  \n",
       "\n",
       "[10000 rows x 6 columns]"
      ],
      "text/html": "<div>\n<style scoped>\n    .dataframe tbody tr th:only-of-type {\n        vertical-align: middle;\n    }\n\n    .dataframe tbody tr th {\n        vertical-align: top;\n    }\n\n    .dataframe thead th {\n        text-align: right;\n    }\n</style>\n<table border=\"1\" class=\"dataframe\">\n  <thead>\n    <tr style=\"text-align: right;\">\n      <th></th>\n      <th>clicks</th>\n      <th>impressions</th>\n      <th>ctr</th>\n      <th>position</th>\n      <th>query</th>\n      <th>page</th>\n    </tr>\n  </thead>\n  <tbody>\n    <tr>\n      <th>0</th>\n      <td>2848</td>\n      <td>24149</td>\n      <td>0.117934</td>\n      <td>2.526274</td>\n      <td>mockup nedir</td>\n      <td>https://ceaksan.com/tr/mockup-nedir</td>\n    </tr>\n    <tr>\n      <th>1</th>\n      <td>2573</td>\n      <td>6297</td>\n      <td>0.408607</td>\n      <td>1.604891</td>\n      <td>regex nedir</td>\n      <td>https://ceaksan.com/tr/regex-regular-expressio...</td>\n    </tr>\n    <tr>\n      <th>2</th>\n      <td>1941</td>\n      <td>5156</td>\n      <td>0.376455</td>\n      <td>1.742630</td>\n      <td>foreign key nedir</td>\n      <td>https://ceaksan.com/tr/primary-unique-foreign-key</td>\n    </tr>\n    <tr>\n      <th>3</th>\n      <td>1821</td>\n      <td>54251</td>\n      <td>0.033566</td>\n      <td>4.536893</td>\n      <td>api nedir</td>\n      <td>https://ceaksan.com/tr/api-nedir</td>\n    </tr>\n    <tr>\n      <th>4</th>\n      <td>1612</td>\n      <td>4048</td>\n      <td>0.398221</td>\n      <td>1.383152</td>\n      <td>middleware nedir</td>\n      <td>https://ceaksan.com/tr/middleware-nedir-ne-ise...</td>\n    </tr>\n    <tr>\n      <th>...</th>\n      <td>...</td>\n      <td>...</td>\n      <td>...</td>\n      <td>...</td>\n      <td>...</td>\n      <td>...</td>\n    </tr>\n    <tr>\n      <th>9995</th>\n      <td>1</td>\n      <td>12</td>\n      <td>0.083333</td>\n      <td>8.750000</td>\n      <td>node js vs express js</td>\n      <td>https://ceaksan.com/tr/express-js-nedir</td>\n    </tr>\n    <tr>\n      <th>9996</th>\n      <td>1</td>\n      <td>4</td>\n      <td>0.250000</td>\n      <td>7.750000</td>\n      <td>node js webpack</td>\n      <td>https://ceaksan.com/tr/posts/webpack-nedir</td>\n    </tr>\n    <tr>\n      <th>9997</th>\n      <td>1</td>\n      <td>14</td>\n      <td>0.071429</td>\n      <td>27.571429</td>\n      <td>node js xml</td>\n      <td>https://ceaksan.com/tr/node-js-ile-xml-json-is...</td>\n    </tr>\n    <tr>\n      <th>9998</th>\n      <td>1</td>\n      <td>4</td>\n      <td>0.250000</td>\n      <td>24.500000</td>\n      <td>node js xml parser</td>\n      <td>https://ceaksan.com/tr/posts/node-js-ile-xml-j...</td>\n    </tr>\n    <tr>\n      <th>9999</th>\n      <td>1</td>\n      <td>2</td>\n      <td>0.500000</td>\n      <td>5.000000</td>\n      <td>node js xml2js</td>\n      <td>https://ceaksan.com/tr/node-js-ile-xml-json-is...</td>\n    </tr>\n  </tbody>\n</table>\n<p>10000 rows × 6 columns</p>\n</div>"
     },
     "metadata": {},
     "execution_count": 10
    }
   ],
   "source": [
    "df_GSC"
   ]
  },
  {
   "cell_type": "code",
   "execution_count": null,
   "metadata": {},
   "outputs": [],
   "source": []
  }
 ]
}