{
 "metadata": {
  "language_info": {
   "codemirror_mode": {
    "name": "ipython",
    "version": 3
   },
   "file_extension": ".py",
   "mimetype": "text/x-python",
   "name": "python",
   "nbconvert_exporter": "python",
   "pygments_lexer": "ipython3",
   "version": "3.9.4"
  },
  "orig_nbformat": 4,
  "kernelspec": {
   "name": "python3",
   "display_name": "Python 3.9.4 64-bit ('python@3.9')"
  },
  "interpreter": {
   "hash": "ac2eaa0ea0ebeafcc7822e65e46aa9d4f966f30b695406963e145ea4a91cd4fc"
  }
 },
 "nbformat": 4,
 "nbformat_minor": 2,
 "cells": [
  {
   "cell_type": "code",
   "execution_count": 1,
   "metadata": {},
   "outputs": [],
   "source": [
    "#!/usr/bin/env python3\n",
    "\n",
    "#!pip insall sitemap_tree_for_homepage\n",
    "#!pip insall pandas\n",
    "\n",
    "import csv, requests\n",
    "from usp.tree import sitemap_tree_for_homepage\n",
    "import pandas as pd"
   ]
  },
  {
   "cell_type": "code",
   "execution_count": 2,
   "metadata": {},
   "outputs": [
    {
     "output_type": "stream",
     "name": "stderr",
     "text": [
      "2021-06-28 00:17:58,361 WARNING usp.tree [59487/MainThread]: Assuming that the homepage of https://we.dnomia.com is https://we.dnomia.com/\n",
      "2021-06-28 00:17:58,363 INFO usp.fetch_parse [59487/MainThread]: Fetching level 0 sitemap from https://we.dnomia.com/robots.txt...\n",
      "2021-06-28 00:17:58,365 INFO usp.helpers [59487/MainThread]: Fetching URL https://we.dnomia.com/robots.txt...\n",
      "2021-06-28 00:17:59,213 INFO usp.fetch_parse [59487/MainThread]: Parsing sitemap from URL https://we.dnomia.com/robots.txt...\n",
      "2021-06-28 00:17:59,215 INFO usp.fetch_parse [59487/MainThread]: Fetching level 0 sitemap from https://we.dnomia.com/sitemap-index.xml.gz...\n",
      "2021-06-28 00:17:59,216 INFO usp.helpers [59487/MainThread]: Fetching URL https://we.dnomia.com/sitemap-index.xml.gz...\n",
      "2021-06-28 00:17:59,885 WARNING usp.helpers [59487/MainThread]: Request for URL https://we.dnomia.com/sitemap-index.xml.gz failed: 404 Not Found\n",
      "2021-06-28 00:17:59,886 INFO usp.helpers [59487/MainThread]: Not retrying for URL https://we.dnomia.com/sitemap-index.xml.gz\n",
      "2021-06-28 00:17:59,886 INFO usp.fetch_parse [59487/MainThread]: Fetching level 0 sitemap from https://we.dnomia.com/sitemap.xml...\n",
      "2021-06-28 00:17:59,887 INFO usp.helpers [59487/MainThread]: Fetching URL https://we.dnomia.com/sitemap.xml...\n",
      "2021-06-28 00:18:00,404 INFO usp.fetch_parse [59487/MainThread]: Parsing sitemap from URL https://we.dnomia.com/sitemap.xml...\n",
      "2021-06-28 00:18:00,409 INFO usp.fetch_parse [59487/MainThread]: Fetching level 0 sitemap from https://we.dnomia.com/.sitemap.xml...\n",
      "2021-06-28 00:18:00,410 INFO usp.helpers [59487/MainThread]: Fetching URL https://we.dnomia.com/.sitemap.xml...\n",
      "2021-06-28 00:18:01,095 WARNING usp.helpers [59487/MainThread]: Request for URL https://we.dnomia.com/.sitemap.xml failed: 404 Not Found\n",
      "2021-06-28 00:18:01,096 INFO usp.helpers [59487/MainThread]: Not retrying for URL https://we.dnomia.com/.sitemap.xml\n",
      "2021-06-28 00:18:01,097 INFO usp.fetch_parse [59487/MainThread]: Fetching level 0 sitemap from https://we.dnomia.com/sitemap-index.xml...\n",
      "2021-06-28 00:18:01,098 INFO usp.helpers [59487/MainThread]: Fetching URL https://we.dnomia.com/sitemap-index.xml...\n",
      "2021-06-28 00:18:01,813 WARNING usp.helpers [59487/MainThread]: Request for URL https://we.dnomia.com/sitemap-index.xml failed: 404 Not Found\n",
      "2021-06-28 00:18:01,814 INFO usp.helpers [59487/MainThread]: Not retrying for URL https://we.dnomia.com/sitemap-index.xml\n",
      "2021-06-28 00:18:01,815 INFO usp.fetch_parse [59487/MainThread]: Fetching level 0 sitemap from https://we.dnomia.com/sitemap...\n",
      "2021-06-28 00:18:01,816 INFO usp.helpers [59487/MainThread]: Fetching URL https://we.dnomia.com/sitemap...\n",
      "2021-06-28 00:18:02,529 WARNING usp.helpers [59487/MainThread]: Request for URL https://we.dnomia.com/sitemap failed: 404 Not Found\n",
      "2021-06-28 00:18:02,530 INFO usp.helpers [59487/MainThread]: Not retrying for URL https://we.dnomia.com/sitemap\n",
      "2021-06-28 00:18:02,531 INFO usp.fetch_parse [59487/MainThread]: Fetching level 0 sitemap from https://we.dnomia.com/sitemap_index.xml...\n",
      "2021-06-28 00:18:02,532 INFO usp.helpers [59487/MainThread]: Fetching URL https://we.dnomia.com/sitemap_index.xml...\n",
      "2021-06-28 00:18:03,162 WARNING usp.helpers [59487/MainThread]: Request for URL https://we.dnomia.com/sitemap_index.xml failed: 404 Not Found\n",
      "2021-06-28 00:18:03,163 INFO usp.helpers [59487/MainThread]: Not retrying for URL https://we.dnomia.com/sitemap_index.xml\n",
      "2021-06-28 00:18:03,164 INFO usp.fetch_parse [59487/MainThread]: Fetching level 0 sitemap from https://we.dnomia.com/admin/config/search/xmlsitemap...\n",
      "2021-06-28 00:18:03,165 INFO usp.helpers [59487/MainThread]: Fetching URL https://we.dnomia.com/admin/config/search/xmlsitemap...\n",
      "2021-06-28 00:18:03,863 WARNING usp.helpers [59487/MainThread]: Request for URL https://we.dnomia.com/admin/config/search/xmlsitemap failed: 404 Not Found\n",
      "2021-06-28 00:18:03,864 INFO usp.helpers [59487/MainThread]: Not retrying for URL https://we.dnomia.com/admin/config/search/xmlsitemap\n",
      "2021-06-28 00:18:03,865 INFO usp.fetch_parse [59487/MainThread]: Fetching level 0 sitemap from https://we.dnomia.com/sitemap_index.xml.gz...\n",
      "2021-06-28 00:18:03,866 INFO usp.helpers [59487/MainThread]: Fetching URL https://we.dnomia.com/sitemap_index.xml.gz...\n",
      "2021-06-28 00:18:04,676 WARNING usp.helpers [59487/MainThread]: Request for URL https://we.dnomia.com/sitemap_index.xml.gz failed: 404 Not Found\n",
      "2021-06-28 00:18:04,677 INFO usp.helpers [59487/MainThread]: Not retrying for URL https://we.dnomia.com/sitemap_index.xml.gz\n",
      "2021-06-28 00:18:04,678 INFO usp.fetch_parse [59487/MainThread]: Fetching level 0 sitemap from https://we.dnomia.com/sitemap.xml.gz...\n",
      "2021-06-28 00:18:04,679 INFO usp.helpers [59487/MainThread]: Fetching URL https://we.dnomia.com/sitemap.xml.gz...\n",
      "2021-06-28 00:18:05,392 WARNING usp.helpers [59487/MainThread]: Request for URL https://we.dnomia.com/sitemap.xml.gz failed: 404 Not Found\n",
      "2021-06-28 00:18:05,393 INFO usp.helpers [59487/MainThread]: Not retrying for URL https://we.dnomia.com/sitemap.xml.gz\n",
      "2021-06-28 00:18:05,393 INFO usp.fetch_parse [59487/MainThread]: Fetching level 0 sitemap from https://we.dnomia.com/sitemap/sitemap-index.xml...\n",
      "2021-06-28 00:18:05,394 INFO usp.helpers [59487/MainThread]: Fetching URL https://we.dnomia.com/sitemap/sitemap-index.xml...\n",
      "2021-06-28 00:18:06,214 WARNING usp.helpers [59487/MainThread]: Request for URL https://we.dnomia.com/sitemap/sitemap-index.xml failed: 404 Not Found\n",
      "2021-06-28 00:18:06,215 INFO usp.helpers [59487/MainThread]: Not retrying for URL https://we.dnomia.com/sitemap/sitemap-index.xml\n",
      "pageDetails has 5 rows\n"
     ]
    }
   ],
   "source": [
    "tree = sitemap_tree_for_homepage('https://we.dnomia.com')\n",
    "\n",
    "pageDetails = [[\n",
    "    page.url,\n",
    "    page.last_modified.isoformat('#','hours').split('#')[0] if page.last_modified else None,\n",
    "    float(page.priority) if page.priority else None] for page in tree.all_pages()]\n",
    "\n",
    "with open('pages.csv', 'w+', newline='') as fl:\n",
    "    write = csv.writer(fl)\n",
    "    write.writerow(['URL', 'LastModified', 'Priority'])\n",
    "    write.writerows(pageDetails)\n",
    "\n",
    "print(f'{len(pageDetails)} rows founded!')"
   ]
  },
  {
   "cell_type": "code",
   "execution_count": null,
   "metadata": {
    "tags": []
   },
   "outputs": [],
   "source": [
    "with open('pages.csv') as csvFile:\n",
    "    csvReader = csv.reader(csvFile, delimiter=',')\n",
    "    print([row[0] for row in csvReader)][1:10)"
   ]
  },
  {
   "cell_type": "code",
   "execution_count": null,
   "metadata": {
    "tags": []
   },
   "outputs": [],
   "source": [
    "df = pd.read_csv('pages.csv')\n",
    "df.head()"
   ]
  },
  {
   "cell_type": "code",
   "execution_count": null,
   "metadata": {},
   "outputs": [],
   "source": [
    "# https://pythontic.com/pandas/dataframe-attributes/introduction\n",
    "print(df.shape)\n",
    "print(df.columns)\n",
    "print(df.describe)"
   ]
  },
  {
   "cell_type": "code",
   "execution_count": null,
   "metadata": {},
   "outputs": [],
   "source": [
    "for url in df['URL']:\n",
    "    response = requests.get(url)\n",
    "    df['Status'] = response.status_code\n",
    "    df['Redirected'] = response.is_redirect\n",
    "    df['PermanentRedirection'] = response.is_permanent_redirect\n",
    "    df['IssueReason'] = response.reason if response.reason != 'OK' else None"
   ]
  },
  {
   "cell_type": "code",
   "execution_count": null,
   "metadata": {},
   "outputs": [],
   "source": [
    "df.head()"
   ]
  },
  {
   "cell_type": "code",
   "execution_count": null,
   "metadata": {
    "tags": []
   },
   "outputs": [],
   "source": [
    "print(df.columns)\n",
    "print(list(set(df['Priority'])))\n",
    "print(list(set(df['Status'])))\n",
    "print(list(set(df['Redirected'])))\n",
    "print(list(set(df['PermanentRedirection'])))\n",
    "print(list(set(df['IssueReason'])))"
   ]
  },
  {
   "cell_type": "code",
   "execution_count": null,
   "metadata": {},
   "outputs": [],
   "source": [
    "df.loc[df.Priority > 0.6]"
   ]
  },
  {
   "cell_type": "code",
   "execution_count": null,
   "metadata": {},
   "outputs": [],
   "source": [
    "# df['Status'].value_counts()\n",
    "df[['URL', 'Status']].head(10)"
   ]
  },
  {
   "cell_type": "code",
   "execution_count": null,
   "metadata": {},
   "outputs": [],
   "source": [
    "df['Status'] = (pd\n",
    "    .Categorical(\n",
    "        df['Status'],\n",
    "        categories=list(set(df['Status'])),\n",
    "        ordered=False))\n",
    "\n",
    "df['Priority'] = (pd\n",
    "    .Categorical(\n",
    "        df['Priority'],\n",
    "        categories=[float(i/10) for i in range(0,10,1)],\n",
    "        ordered=True))\n",
    "\n",
    "df['Redirected'] = (pd\n",
    "    .Categorical(\n",
    "        df['Redirected'],\n",
    "        categories=list(set(df['Redirected'])),\n",
    "        ordered=False))\n",
    "\n",
    "df['PermanentRedirection'] = (pd\n",
    "    .Categorical(\n",
    "        df['PermanentRedirection'],\n",
    "        categories=list(set(df['PermanentRedirection'])),\n",
    "        ordered=False))"
   ]
  },
  {
   "cell_type": "code",
   "execution_count": null,
   "metadata": {},
   "outputs": [],
   "source": [
    "df[['URL', 'Status','Priority']].sample(5)"
   ]
  },
  {
   "cell_type": "code",
   "execution_count": null,
   "metadata": {},
   "outputs": [],
   "source": [
    "df.to_csv('sitemap.zip', index=False, compression=dict(method='zip',archive_name='pages-new.csv'))"
   ]
  },
  {
   "cell_type": "code",
   "execution_count": null,
   "metadata": {},
   "outputs": [],
   "source": []
  }
 ]
}