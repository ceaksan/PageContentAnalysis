{
 "metadata": {
  "language_info": {
   "codemirror_mode": {
    "name": "ipython",
    "version": 3
   },
   "file_extension": ".py",
   "mimetype": "text/x-python",
   "name": "python",
   "nbconvert_exporter": "python",
   "pygments_lexer": "ipython3",
   "version": "3.9.4"
  },
  "orig_nbformat": 4,
  "kernelspec": {
   "name": "python3",
   "display_name": "Python 3.9.4 64-bit ('python@3.9')"
  },
  "interpreter": {
   "hash": "ac2eaa0ea0ebeafcc7822e65e46aa9d4f966f30b695406963e145ea4a91cd4fc"
  }
 },
 "nbformat": 4,
 "nbformat_minor": 2,
 "cells": [
  {
   "cell_type": "code",
   "execution_count": null,
   "metadata": {},
   "outputs": [],
   "source": [
    "#!/usr/bin/env python3\n",
    "\n",
    "#!pip insall sitemap_tree_for_homepage\n",
    "#!pip insall pandas\n",
    "\n",
    "import csv, requests\n",
    "from usp.tree import sitemap_tree_for_homepage\n",
    "import pandas as pd"
   ]
  },
  {
   "cell_type": "code",
   "execution_count": null,
   "metadata": {},
   "outputs": [],
   "source": [
    "tree = sitemap_tree_for_homepage('https://we.dnomia.com')\n",
    "\n",
    "pageDetails = [[\n",
    "    page.url,\n",
    "    page.last_modified.isoformat('#','hours').split('#')[0] if page.last_modified else None,\n",
    "    float(page.priority) if page.priority else None] for page in tree.all_pages()]\n",
    "\n",
    "with open('pages.csv', 'w+', newline='') as fl:\n",
    "    write = csv.writer(fl)\n",
    "    write.writerow(['URL', 'LastModified', 'Priority'])\n",
    "    write.writerows(pageDetails)\n",
    "\n",
    "print(f'{len(pageDetails)} rows founded!')"
   ]
  },
  {
   "cell_type": "code",
   "execution_count": null,
   "metadata": {
    "tags": []
   },
   "outputs": [],
   "source": [
    "with open('pages.csv') as csvFile:\n",
    "    csvReader = csv.reader(csvFile, delimiter=',')\n",
    "    print([row[0] for row in csvReader)][1:10)"
   ]
  },
  {
   "cell_type": "code",
   "execution_count": null,
   "metadata": {
    "tags": []
   },
   "outputs": [],
   "source": [
    "df = pd.read_csv('pages.csv')\n",
    "df.head()"
   ]
  },
  {
   "cell_type": "code",
   "execution_count": null,
   "metadata": {},
   "outputs": [],
   "source": [
    "# https://pythontic.com/pandas/dataframe-attributes/introduction\n",
    "print(df.shape)\n",
    "print(df.columns)\n",
    "print(df.describe)"
   ]
  },
  {
   "cell_type": "code",
   "execution_count": null,
   "metadata": {},
   "outputs": [],
   "source": [
    "for url in df['URL']:\n",
    "    response = requests.get(url)\n",
    "    df['Status'] = response.status_code\n",
    "    df['Redirected'] = response.is_redirect\n",
    "    df['PermanentRedirection'] = response.is_permanent_redirect\n",
    "    df['IssueReason'] = response.reason if response.reason != 'OK' else None"
   ]
  },
  {
   "cell_type": "code",
   "execution_count": null,
   "metadata": {},
   "outputs": [],
   "source": [
    "df.head()"
   ]
  },
  {
   "cell_type": "code",
   "execution_count": null,
   "metadata": {
    "tags": []
   },
   "outputs": [],
   "source": [
    "print(df.columns)\n",
    "print(list(set(df['Priority'])))\n",
    "print(list(set(df['Status'])))\n",
    "print(list(set(df['Redirected'])))\n",
    "print(list(set(df['PermanentRedirection'])))\n",
    "print(list(set(df['IssueReason'])))"
   ]
  },
  {
   "cell_type": "code",
   "execution_count": null,
   "metadata": {},
   "outputs": [],
   "source": [
    "df.loc[df.Priority > 0.6]"
   ]
  },
  {
   "cell_type": "code",
   "execution_count": null,
   "metadata": {},
   "outputs": [],
   "source": [
    "# df['Status'].value_counts()\n",
    "df[['URL', 'Status']].head(10)"
   ]
  },
  {
   "cell_type": "code",
   "execution_count": null,
   "metadata": {},
   "outputs": [],
   "source": [
    "df['Status'] = (pd\n",
    "    .Categorical(\n",
    "        df['Status'],\n",
    "        categories=list(set(df['Status'])),\n",
    "        ordered=False))\n",
    "\n",
    "df['Priority'] = (pd\n",
    "    .Categorical(\n",
    "        df['Priority'],\n",
    "        categories=[float(i/10) for i in range(0,10,1)],\n",
    "        ordered=True))\n",
    "\n",
    "df['Redirected'] = (pd\n",
    "    .Categorical(\n",
    "        df['Redirected'],\n",
    "        categories=list(set(df['Redirected'])),\n",
    "        ordered=False))\n",
    "\n",
    "df['PermanentRedirection'] = (pd\n",
    "    .Categorical(\n",
    "        df['PermanentRedirection'],\n",
    "        categories=list(set(df['PermanentRedirection'])),\n",
    "        ordered=False))"
   ]
  },
  {
   "cell_type": "code",
   "execution_count": null,
   "metadata": {},
   "outputs": [],
   "source": [
    "df[['URL', 'Status','Priority']].sample(5)"
   ]
  },
  {
   "cell_type": "code",
   "execution_count": null,
   "metadata": {},
   "outputs": [],
   "source": [
    "df.to_csv('sitemap.zip', index=False, compression=dict(method='zip',archive_name='pages-new.csv'))"
   ]
  },
  {
   "cell_type": "code",
   "execution_count": null,
   "metadata": {},
   "outputs": [],
   "source": []
  }
 ]
}